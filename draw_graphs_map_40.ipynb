{
  "nbformat": 4,
  "nbformat_minor": 0,
  "metadata": {
    "colab": {
      "provenance": []
    },
    "kernelspec": {
      "name": "python3",
      "display_name": "Python 3"
    },
    "language_info": {
      "name": "python"
    }
  },
  "cells": [
    {
      "cell_type": "code",
      "source": [
        "import json\n",
        "import matplotlib.pyplot as plt\n",
        "import statistics\n",
        "\n",
        "with open('new_train.json', 'rt') as f:\n",
        "  queries = json.load(f)"
      ],
      "metadata": {
        "id": "EM5ePrRHojbG"
      },
      "execution_count": 1,
      "outputs": []
    },
    {
      "cell_type": "code",
      "source": [
        "def average_precision(true_list, predicted_list, k=40):\n",
        "    true_set = frozenset(true_list)\n",
        "    predicted_list = predicted_list[:k]\n",
        "    precisions = []\n",
        "    for i,doc_id in enumerate(predicted_list):        \n",
        "        if doc_id in true_set:\n",
        "            prec = (len(precisions)+1) / (i+1)          \n",
        "            precisions.append(prec)\n",
        "    if len(precisions) == 0:\n",
        "        return 0.0\n",
        "    return round(sum(precisions)/len(precisions),3)"
      ],
      "metadata": {
        "id": "gWimZWCOy3Ei"
      },
      "execution_count": 2,
      "outputs": []
    },
    {
      "cell_type": "code",
      "source": [
        "import requests\n",
        "from time import time\n",
        "# url = 'http://35.232.59.3:8080'\n",
        "# place the domain you got from ngrok or GCP IP below. \n",
        "url = 'http://34.135.82.254:8080'\n",
        "\n",
        "qs_res = []\n",
        "for q, true_wids in queries.items():\n",
        "  duration, ap = None, None\n",
        "  t_start = time()\n",
        "  try:\n",
        "    res = requests.get(url + '/search_anchor', {'query': q}, timeout=35)\n",
        "    duration = time() - t_start\n",
        "    if res.status_code == 200:\n",
        "      pred_wids, _ = zip(*res.json())\n",
        "      ap = average_precision(true_wids, pred_wids)\n",
        "  except:\n",
        "    pass\n",
        "  \n",
        "  qs_res.append((q, duration, ap))"
      ],
      "metadata": {
        "id": "dYmNTq9u0ChK"
      },
      "execution_count": 3,
      "outputs": []
    },
    {
      "cell_type": "code",
      "source": [
        "qs_res"
      ],
      "metadata": {
        "id": "QPsJvufv2xae"
      },
      "execution_count": null,
      "outputs": []
    },
    {
      "cell_type": "code",
      "source": [
        "queries, durations,average_precisions = zip(*qs_res)"
      ],
      "metadata": {
        "id": "LLbHHLA9xIXe"
      },
      "execution_count": 4,
      "outputs": []
    },
    {
      "cell_type": "code",
      "source": [
        "average_duration = statistics.mean(durations)\n",
        "fig, ax = plt.subplots(figsize=(8, 4))\n",
        "ax.plot(queries, durations, 'r-', label=\"Duration\")\n",
        "ax.scatter(queries, durations, color='r', label=\"Duration\")\n",
        "ax.axhline(average_duration, color='r', linestyle='--', label=\"Average Duration\")\n",
        "ax.set_xlabel('Query')\n",
        "ax.set_ylabel('Duration (s)')\n",
        "ax.set_xticklabels(queries, rotation=90)\n",
        "plt.title(\"Title Weight=1 Stemming=True\\nAverage Duration=\"+str(average_duration))\n",
        "#plt.savefig(\"t1_stem_dur.png\")\n",
        "plt.show()"
      ],
      "metadata": {
        "id": "x3qLe51Nmq55"
      },
      "execution_count": null,
      "outputs": []
    },
    {
      "cell_type": "code",
      "source": [
        "queries_n = [query for query,ap in zip(queries, average_precisions) if ap is not None]\n",
        "average_precisions_n = [ap for ap in average_precisions if ap is not None]\n",
        "average_precision = statistics.mean(average_precisions_n)\n",
        "fig, ax = plt.subplots(figsize=(8, 4))\n",
        "ax.plot(queries_n, average_precisions_n, 'b-', label=\"Average Precision\")\n",
        "ax.scatter(queries_n, average_precisions_n, color='b', label=\"Average Precision\")\n",
        "ax.axhline(average_precision, color='b', linestyle='--', label=\"Average Precision\")\n",
        "ax.set_xlabel('Query')\n",
        "ax.set_ylabel('Average Precision')\n",
        "ax.set_xticklabels(queries, rotation=90)\n",
        "plt.title(\"Title Weight=1, Stemming_Title=True\\nAverage Precision=\"+str(average_precision))\n",
        "#plt.savefig(\"t1_stem_ap.png\")\n",
        "plt.show()"
      ],
      "metadata": {
        "id": "0XEWWxVaxIh9"
      },
      "execution_count": null,
      "outputs": []
    },
    {
      "cell_type": "code",
      "source": [
        "import requests\n",
        "pv = requests.post('http://34.135.82.254:8080/get_pageview', json=[57069491,65967176,42163310])\n",
        "pr = requests.post('http://34.135.82.254:8080/get_pagerank', json=[57069491,65967176,42163310])"
      ],
      "metadata": {
        "id": "UE6ViUAgIudq"
      },
      "execution_count": 17,
      "outputs": []
    },
    {
      "cell_type": "code",
      "source": [
        "pr.content"
      ],
      "metadata": {
        "colab": {
          "base_uri": "https://localhost:8080/"
        },
        "id": "AFJxlieoI5Da",
        "outputId": "db8c5ade-2811-4bc8-c227-13f926533efe"
      },
      "execution_count": 20,
      "outputs": [
        {
          "output_type": "execute_result",
          "data": {
            "text/plain": [
              "b'[\\n  0.33356282489865574, \\n  0.1548102087544133, \\n  3.102288653188671\\n]\\n'"
            ]
          },
          "metadata": {},
          "execution_count": 20
        }
      ]
    },
    {
      "cell_type": "code",
      "source": [
        "pv.content"
      ],
      "metadata": {
        "colab": {
          "base_uri": "https://localhost:8080/"
        },
        "id": "KKEWj8ohJRZF",
        "outputId": "bc7b8eef-208f-47ce-c7e9-d8f54aa0e3ac"
      },
      "execution_count": 21,
      "outputs": [
        {
          "output_type": "execute_result",
          "data": {
            "text/plain": [
              "b'[\\n  21314, \\n  5962, \\n  1044471\\n]\\n'"
            ]
          },
          "metadata": {},
          "execution_count": 21
        }
      ]
    }
  ]
}